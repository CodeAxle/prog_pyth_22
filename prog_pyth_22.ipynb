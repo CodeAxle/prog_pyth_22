{
 "cells": [
  {
   "cell_type": "markdown",
   "id": "f728989d",
   "metadata": {},
   "source": [
    "# 1."
   ]
  },
  {
   "cell_type": "code",
   "execution_count": 1,
   "id": "7fed7c5c",
   "metadata": {},
   "outputs": [
    {
     "name": "stdout",
     "output_type": "stream",
     "text": [
      "[3, 6, 9]\n"
     ]
    }
   ],
   "source": [
    "# code:\n",
    "def list_operation(x, y, n):\n",
    "    return [num for num in range(x, y+1) if num % n == 0]\n",
    "\n",
    "# Examples\n",
    "print(list_operation(1, 10, 3)) "
   ]
  },
  {
   "cell_type": "markdown",
   "id": "1f27cab8",
   "metadata": {},
   "source": [
    "# 2."
   ]
  },
  {
   "cell_type": "code",
   "execution_count": 2,
   "id": "559871dc",
   "metadata": {},
   "outputs": [
    {
     "name": "stdout",
     "output_type": "stream",
     "text": [
      "True\n",
      "False\n",
      "True\n",
      "False\n"
     ]
    }
   ],
   "source": [
    "# code:\n",
    "def simon_says(list1, list2):\n",
    "    return list1[:-1] == list2[1:]\n",
    "\n",
    "# Examples\n",
    "print(simon_says([1, 2], [5, 1]))  # Output: True\n",
    "print(simon_says([1, 2], [5, 5]))  # Output: False\n",
    "print(simon_says([1, 2, 3, 4, 5], [0, 1, 2, 3, 4]))  \n",
    "print(simon_says([1, 2, 3, 4, 5], [5, 5, 1, 2, 3]))  "
   ]
  },
  {
   "cell_type": "markdown",
   "id": "4a640f9c",
   "metadata": {},
   "source": [
    "# 3."
   ]
  },
  {
   "cell_type": "code",
   "execution_count": 5,
   "id": "d3313424",
   "metadata": {},
   "outputs": [
    {
     "name": "stdout",
     "output_type": "stream",
     "text": [
      "AMS\n",
      "ACJMRR\n"
     ]
    }
   ],
   "source": [
    "# code:\n",
    "def society_name(names):\n",
    "    initials = [name[0] for name in names]\n",
    "    return ''.join(sorted(initials))\n",
    "\n",
    "# Examples\n",
    "print(society_name([\"Adam\", \"Sarah\", \"Malcolm\"]))  \n",
    "print(society_name([\"Adam\", \"Chandler\", \"Rachel\", \"Ross\", \"Monica\", \"Joey\"])) "
   ]
  },
  {
   "cell_type": "markdown",
   "id": "d125bd0d",
   "metadata": {},
   "source": [
    "# 4."
   ]
  },
  {
   "cell_type": "code",
   "execution_count": 6,
   "id": "c295adf3",
   "metadata": {},
   "outputs": [
    {
     "name": "stdout",
     "output_type": "stream",
     "text": [
      "True\n",
      "False\n"
     ]
    }
   ],
   "source": [
    "# code:\n",
    "def is_isogram(string):\n",
    "    # Convert the string to lowercase to make it case-insensitive\n",
    "    lowercase_string = string.lower()\n",
    "    # Use a set to check for duplicate letters\n",
    "    unique_letters = set(lowercase_string)\n",
    "    # If the length of the unique letters set is equal to the length of the string,\n",
    "    # then it's an isogram, otherwise, it's not\n",
    "    return len(unique_letters) == len(lowercase_string)\n",
    "\n",
    "# Examples\n",
    "print(is_isogram(\"Algorism\")) \n",
    "print(is_isogram(\"PasSword\"))  "
   ]
  },
  {
   "cell_type": "markdown",
   "id": "d70692de",
   "metadata": {},
   "source": [
    "# 5."
   ]
  },
  {
   "cell_type": "code",
   "execution_count": 7,
   "id": "b7bbdbd9",
   "metadata": {},
   "outputs": [
    {
     "name": "stdout",
     "output_type": "stream",
     "text": [
      "True\n",
      "False\n"
     ]
    }
   ],
   "source": [
    "# code:\n",
    "def is_in_order(s):\n",
    "    # Check if the string is sorted in ascending order\n",
    "    return list(s) == sorted(s)\n",
    "\n",
    "# Examples\n",
    "print(is_in_order(\"abc\"))\n",
    "print(is_in_order(\"edabit\"))  "
   ]
  },
  {
   "cell_type": "code",
   "execution_count": null,
   "id": "5a40945e",
   "metadata": {},
   "outputs": [],
   "source": []
  }
 ],
 "metadata": {
  "kernelspec": {
   "display_name": "Python 3 (ipykernel)",
   "language": "python",
   "name": "python3"
  },
  "language_info": {
   "codemirror_mode": {
    "name": "ipython",
    "version": 3
   },
   "file_extension": ".py",
   "mimetype": "text/x-python",
   "name": "python",
   "nbconvert_exporter": "python",
   "pygments_lexer": "ipython3",
   "version": "3.11.5"
  }
 },
 "nbformat": 4,
 "nbformat_minor": 5
}
